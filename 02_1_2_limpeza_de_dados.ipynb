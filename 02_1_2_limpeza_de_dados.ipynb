{
 "cells": [
  {
   "cell_type": "code",
   "execution_count": 1,
   "metadata": {
    "id": "SkOKv2Cjg0fe"
   },
   "outputs": [
    {
     "name": "stdout",
     "output_type": "stream",
     "text": [
      "Requirement already satisfied: beautifulsoup4 in c:\\users\\pc\\anaconda3\\lib\\site-packages (4.12.3)\n",
      "Collecting pyspellchecker\n",
      "  Downloading pyspellchecker-0.8.2-py3-none-any.whl.metadata (9.4 kB)\n",
      "Requirement already satisfied: soupsieve>1.2 in c:\\users\\pc\\anaconda3\\lib\\site-packages (from beautifulsoup4) (2.5)\n",
      "Downloading pyspellchecker-0.8.2-py3-none-any.whl (7.1 MB)\n",
      "   ---------------------------------------- 0.0/7.1 MB ? eta -:--:--\n",
      "   ---------------------------------------- 7.1/7.1 MB 55.1 MB/s eta 0:00:00\n",
      "Installing collected packages: pyspellchecker\n",
      "Successfully installed pyspellchecker-0.8.2\n"
     ]
    }
   ],
   "source": [
    "# Instalação de pacotes para raspagem e análise de dados.\n",
    "!pip install beautifulsoup4 pyspellchecker"
   ]
  },
  {
   "cell_type": "code",
   "execution_count": 2,
   "metadata": {
    "colab": {
     "base_uri": "https://localhost:8080/"
    },
    "id": "TEnpUAiSdLkp",
    "outputId": "6c2e5040-57af-4122-ff96-4c09635d1779"
   },
   "outputs": [
    {
     "name": "stdout",
     "output_type": "stream",
     "text": [
      "[INFO] 2025-02-07 10:56:40 - Funções utilitárias prontas para utilização.\n",
      "[INFO] 2025-02-07 10:56:40 - Versão do Python: 3.12.7 | packaged by Anaconda, Inc. | (main, Oct  4 2024, 13:17:27) [MSC v.1929 64 bit (AMD64)] \n"
     ]
    }
   ],
   "source": [
    "# Declara define funções utilitárias utilizadas no notebook.\n",
    "import datetime\n",
    "import sys\n",
    "def formata_msg(nivel, msg):\n",
    "    \"\"\"\n",
    "    Formata uma mensagem de log incluindo o nível de severidade, timestamp\n",
    "    e a mensagem.\n",
    "\n",
    "    Parâmetros:\n",
    "    - nivel (str): Nível de severidade da mensagem (ex: 'INFO', 'ERROR', 'WARNING').\n",
    "    - msg (str): A mensagem de log propriamente dita.\n",
    "\n",
    "    Retorna:\n",
    "    - str: A mensagem de log formatada.\n",
    "    \"\"\"\n",
    "    timestamp = datetime.datetime.now().strftime('%Y-%m-%d %H:%M:%S')\n",
    "\n",
    "    return f\"[{nivel}] {timestamp} - {msg}\"\n",
    "\n",
    "print(formata_msg(\"INFO\", \"Funções utilitárias prontas para utilização.\"))\n",
    "print(formata_msg(\"INFO\", f\"Versão do Python: {sys.version} \"))"
   ]
  },
  {
   "cell_type": "code",
   "execution_count": 3,
   "metadata": {
    "id": "Y4MSqiuliJNk"
   },
   "outputs": [
    {
     "name": "stdout",
     "output_type": "stream",
     "text": [
      "[INFO] 2025-02-07 10:56:42 - Bibliotecas importadas com sucesso; ambiente pronto.\n"
     ]
    }
   ],
   "source": [
    "# Importa módulos essenciais para funcionalidades do notebook.\n",
    "from bs4 import BeautifulSoup\n",
    "from spellchecker import SpellChecker\n",
    "\n",
    "print(formata_msg(\"INFO\", \"Bibliotecas importadas com sucesso; ambiente pronto.\"))"
   ]
  },
  {
   "cell_type": "markdown",
   "metadata": {
    "id": "-be8iXybTHX3"
   },
   "source": [
    "# Remoção de **caracteres** não imprimíveis\n",
    "Caracteres não imprimíveis, ou caracteres de controle, são fundamentais na codificação de textos, servindo para organizar e controlar a apresentação de dados sem gerar símbolos visíveis. Eles incluem **espaços**, **tabulações ('\\t')**, **quebras de linha ('\\n')** e **retornos de carro ('\\r')**, entre outros, e são usados em dispositivos e softwares para estruturar textos, controlar fluxos de dados e delimitar strings."
   ]
  },
  {
   "cell_type": "code",
   "execution_count": 4,
   "metadata": {
    "id": "Fb64rOJmsLH2"
   },
   "outputs": [],
   "source": [
    "texto_exemplo = \"\"\"\n",
    "A marca do home imaturo😜 é\\t\\t querer morrer de maneira nobre por alguma causa🕊️,\\n\n",
    "enquanto\\n\\n a marca do\\r home maduo🤓 é querer viver de maneira humide por uma\\n\n",
    "causa☮️.\n",
    "\"\"\""
   ]
  },
  {
   "cell_type": "code",
   "execution_count": 5,
   "metadata": {
    "id": "mKFELcH6sWxn"
   },
   "outputs": [
    {
     "name": "stdout",
     "output_type": "stream",
     "text": [
      "Texto original:\n",
      "[\n",
      "\n",
      "    \n",
      "A marca do home imaturo😜 é\t\t querer morrer de maneira nobre por alguma causa🕊️,\n",
      "\n",
      "enquanto\n",
      "\n",
      " home maduo🤓 é querer viver de maneira humide por uma\n",
      "\n",
      "causa☮️.\n",
      "\n",
      "\n",
      "]\n",
      "\n",
      "Texto limpo:\n",
      "[A marca do home imaturo😜 é querer morrer de maneira nobre por alguma causa🕊️, enquanto a marca do home maduo🤓 é querer viver de maneira humide por uma causa☮️.]\n"
     ]
    }
   ],
   "source": [
    "html_fragmento = f\"\"\"\n",
    "<div>\n",
    "    {texto_exemplo}\n",
    "</div>\n",
    "\"\"\"\n",
    "soup = BeautifulSoup(html_fragmento, \"html.parser\")\n",
    "\n",
    "print(\"Texto original:\")\n",
    "texto_original = soup.get_text()\n",
    "print(f\"[{texto_original}]\")\n",
    "\n",
    "print(\"\\nTexto limpo:\")\n",
    "texto_limpo = ' '.join(texto_original.split())\n",
    "print(f\"[{texto_limpo}]\")"
   ]
  },
  {
   "cell_type": "markdown",
   "metadata": {
    "id": "OfmdX_V4WQ_A"
   },
   "source": [
    "# Correção ortográfica\n",
    "A correção ortográfica **corrige erros de escrita**, melhorando a interpretação de textos. Essencial para análises precisas em tarefas como tradução, análise de sentimentos e assistentes virtuais, a correção ortográfica aumenta a eficácia da PLN ao garantir clareza e precisão na comunicação digital. Ela desempenha um papel fundamental na acessibilidade e na **qualidade das informações** processadas, facilitando interações mais naturais e compreensíveis entre humanos e máquinas."
   ]
  },
  {
   "cell_type": "code",
   "execution_count": 6,
   "metadata": {
    "id": "XUvLNPPAhI9I"
   },
   "outputs": [
    {
     "ename": "NameError",
     "evalue": "name 'spell' is not defined",
     "output_type": "error",
     "traceback": [
      "\u001b[1;31m---------------------------------------------------------------------------\u001b[0m",
      "\u001b[1;31mNameError\u001b[0m                                 Traceback (most recent call last)",
      "Cell \u001b[1;32mIn[6], line 4\u001b[0m\n\u001b[0;32m      1\u001b[0m corretor \u001b[38;5;241m=\u001b[39m SpellChecker(language\u001b[38;5;241m=\u001b[39m\u001b[38;5;124m'\u001b[39m\u001b[38;5;124mpt\u001b[39m\u001b[38;5;124m'\u001b[39m)\n\u001b[0;32m      3\u001b[0m \u001b[38;5;66;03m# find those words that may be misspelled\u001b[39;00m\n\u001b[1;32m----> 4\u001b[0m erros \u001b[38;5;241m=\u001b[39m spell\u001b[38;5;241m.\u001b[39munknown([\u001b[38;5;124m'\u001b[39m\u001b[38;5;124mingreso\u001b[39m\u001b[38;5;124m'\u001b[39m, \u001b[38;5;124m'\u001b[39m\u001b[38;5;124mbola\u001b[39m\u001b[38;5;124m'\u001b[39m, \u001b[38;5;124m'\u001b[39m\u001b[38;5;124mfutbol\u001b[39m\u001b[38;5;124m'\u001b[39m, \u001b[38;5;124m'\u001b[39m\u001b[38;5;124mestádio\u001b[39m\u001b[38;5;124m'\u001b[39m])\n\u001b[0;32m      6\u001b[0m \u001b[38;5;28;01mfor\u001b[39;00m erro \u001b[38;5;129;01min\u001b[39;00m erros:\n\u001b[0;32m      7\u001b[0m     \u001b[38;5;66;03m# Get the one `most likely` answer\u001b[39;00m\n\u001b[0;32m      8\u001b[0m     correcao \u001b[38;5;241m=\u001b[39m corretor\u001b[38;5;241m.\u001b[39mcorrection(erro)\n",
      "\u001b[1;31mNameError\u001b[0m: name 'spell' is not defined"
     ]
    }
   ],
   "source": [
    "corretor = SpellChecker(language='pt')\n",
    "\n",
    "# find those words that may be misspelled\n",
    "erros = spell.unknown(['ingreso', 'bola', 'futbol', 'estádio'])\n",
    "\n",
    "for erro in erros:\n",
    "    # Get the one `most likely` answer\n",
    "    correcao = corretor.correction(erro)\n",
    "\n",
    "    # Get a list of `likely` options\n",
    "    candidatas = corretor.candidates(erro)\n",
    "\n",
    "    print(f\"Palavra incorreta: {erro}, correção:{correcao}, outras opções: {candidatas}\")\n"
   ]
  },
  {
   "cell_type": "code",
   "execution_count": null,
   "metadata": {
    "id": "aupJDldGYL3M"
   },
   "outputs": [],
   "source": [
    "def corrija_texto(texto):\n",
    "\n",
    "  corretor = SpellChecker(language=\"pt\")\n",
    "\n",
    "  texto_aux = texto[:]\n",
    "  erros = corretor.unknown(texto_aux.split(\" \"))\n",
    "\n",
    "  for i, erro in enumerate(erros):\n",
    "    texto_aux = texto_aux.replace(erro, corretor.correction(erro))\n",
    "\n",
    "  return texto_aux\n",
    "\n",
    "print(formata_msg(\"INFO\", \"Função de correção de texto pronta para utilização.\"))"
   ]
  },
  {
   "cell_type": "code",
   "execution_count": null,
   "metadata": {
    "id": "MJfVeNOXYuh1"
   },
   "outputs": [],
   "source": [
    "print(corrija_texto(texto_limpo))"
   ]
  },
  {
   "cell_type": "markdown",
   "metadata": {
    "id": "d98hzX75Wi7S"
   },
   "source": [
    "# Normalização unicode\n",
    "\n",
    "A **normalização unicode** ou **codificação de texto** converte caracteres unicode em alguma forma de representação binária para ser armazenado em um computador."
   ]
  },
  {
   "cell_type": "code",
   "execution_count": null,
   "metadata": {
    "id": "CYqjJr8wiCo-"
   },
   "outputs": [],
   "source": [
    "texto = 'Eu amo pizza 🍕!  Vamos reservar uma viagem para 🚗 Giza?'\n",
    "\n",
    "print(\"Texto original:\")\n",
    "print(texto)\n",
    "\n",
    "print(\"\\nTexto normalizado:\")\n",
    "print(texto.encode(\"utf-8\"))"
   ]
  }
 ],
 "metadata": {
  "colab": {
   "provenance": []
  },
  "kernelspec": {
   "display_name": "Python 3 (ipykernel)",
   "language": "python",
   "name": "python3"
  },
  "language_info": {
   "codemirror_mode": {
    "name": "ipython",
    "version": 3
   },
   "file_extension": ".py",
   "mimetype": "text/x-python",
   "name": "python",
   "nbconvert_exporter": "python",
   "pygments_lexer": "ipython3",
   "version": "3.12.7"
  }
 },
 "nbformat": 4,
 "nbformat_minor": 4
}
