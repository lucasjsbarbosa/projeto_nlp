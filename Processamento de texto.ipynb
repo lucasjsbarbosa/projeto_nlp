{
 "cells": [
  {
   "cell_type": "code",
   "execution_count": 1,
   "id": "2e535211-4223-4c45-b76d-f6a7004e5b9a",
   "metadata": {},
   "outputs": [],
   "source": [
    "frase = \"O livro está na mesa\""
   ]
  },
  {
   "cell_type": "code",
   "execution_count": 2,
   "id": "c0a46006-4351-407f-adce-5ce05e8d7b32",
   "metadata": {},
   "outputs": [
    {
     "data": {
      "text/plain": [
       "str"
      ]
     },
     "execution_count": 2,
     "metadata": {},
     "output_type": "execute_result"
    }
   ],
   "source": [
    "type(frase)"
   ]
  },
  {
   "cell_type": "code",
   "execution_count": null,
   "id": "25b45fe9-7bc3-4763-a3b2-4d304067493f",
   "metadata": {},
   "outputs": [],
   "source": [
    "# Utilizando .split()"
   ]
  },
  {
   "cell_type": "code",
   "execution_count": 3,
   "id": "c813c444-60be-4784-bbb4-fe757923e57c",
   "metadata": {},
   "outputs": [],
   "source": [
    "lista = frase.split(' ')"
   ]
  },
  {
   "cell_type": "code",
   "execution_count": 4,
   "id": "2c794495-110f-4ae3-ba31-66105b301d21",
   "metadata": {},
   "outputs": [
    {
     "data": {
      "text/plain": [
       "['O', 'livro', 'está', 'na', 'mesa']"
      ]
     },
     "execution_count": 4,
     "metadata": {},
     "output_type": "execute_result"
    }
   ],
   "source": [
    "lista"
   ]
  },
  {
   "cell_type": "code",
   "execution_count": 5,
   "id": "adb5a475-6fbd-4c04-93f4-a7ee51d9a7e8",
   "metadata": {},
   "outputs": [],
   "source": [
    "# Utilizando .join()"
   ]
  },
  {
   "cell_type": "code",
   "execution_count": 7,
   "id": "c1ad5555-91fb-4d42-b03e-50c4f466830b",
   "metadata": {},
   "outputs": [],
   "source": [
    "adicionando_traco = '-'.join(frase)"
   ]
  },
  {
   "cell_type": "code",
   "execution_count": 9,
   "id": "fe80566e-22ff-4b50-96b1-a8aa5401df11",
   "metadata": {},
   "outputs": [
    {
     "data": {
      "text/plain": [
       "'O- -l-i-v-r-o- -e-s-t-á- -n-a- -m-e-s-a'"
      ]
     },
     "execution_count": 9,
     "metadata": {},
     "output_type": "execute_result"
    }
   ],
   "source": [
    "adicionando_traco"
   ]
  },
  {
   "cell_type": "code",
   "execution_count": 11,
   "id": "eb284b09-586c-4bff-b74d-dc2c876aa9ad",
   "metadata": {},
   "outputs": [],
   "source": [
    "separando_letras = ' '.join(frase)"
   ]
  },
  {
   "cell_type": "code",
   "execution_count": 12,
   "id": "b97080f6-cb3e-48e4-96b4-384ee8fca1c9",
   "metadata": {},
   "outputs": [
    {
     "data": {
      "text/plain": [
       "'O   l i v r o   e s t á   n a   m e s a'"
      ]
     },
     "execution_count": 12,
     "metadata": {},
     "output_type": "execute_result"
    }
   ],
   "source": [
    "separando_letras"
   ]
  },
  {
   "cell_type": "code",
   "execution_count": 13,
   "id": "0929e896-5d5e-476a-bcc5-22f90022ae2f",
   "metadata": {},
   "outputs": [],
   "source": [
    "# Substituindo strings"
   ]
  },
  {
   "cell_type": "code",
   "execution_count": 14,
   "id": "7b671042-d90e-4df2-85a5-349b6671dbc5",
   "metadata": {},
   "outputs": [],
   "source": [
    "substituicao = frase.replace('livro', 'caderno')"
   ]
  },
  {
   "cell_type": "code",
   "execution_count": 15,
   "id": "1a5e6f81-f5b3-4785-bc97-7c333f3e6dcb",
   "metadata": {},
   "outputs": [
    {
     "data": {
      "text/plain": [
       "'O caderno está na mesa'"
      ]
     },
     "execution_count": 15,
     "metadata": {},
     "output_type": "execute_result"
    }
   ],
   "source": [
    "substituicao"
   ]
  },
  {
   "cell_type": "code",
   "execution_count": 16,
   "id": "3df74135-eb63-4171-9b21-bbdb741877ca",
   "metadata": {},
   "outputs": [
    {
     "data": {
      "text/plain": [
       "['O', 'caderno', 'está', 'na', 'mesa']"
      ]
     },
     "execution_count": 16,
     "metadata": {},
     "output_type": "execute_result"
    }
   ],
   "source": [
    "['caderno' if x== 'livro' else x for x in lista]"
   ]
  },
  {
   "cell_type": "code",
   "execution_count": 17,
   "id": "255543b9-b023-4e9b-b040-ef2325e62d15",
   "metadata": {},
   "outputs": [],
   "source": [
    "# Transformações entre maiúsculas e minúsculas"
   ]
  },
  {
   "cell_type": "code",
   "execution_count": 20,
   "id": "a33866c9-b301-4789-ac43-ce893d057c7a",
   "metadata": {},
   "outputs": [],
   "source": [
    "texto = \"Essa foi a PRIMEIRA VEZ que o caso ocorreu! Quero que fique registrando. Entendido?\""
   ]
  },
  {
   "cell_type": "code",
   "execution_count": 21,
   "id": "71599b71-be9c-43ea-b6fc-0f8a1094aeca",
   "metadata": {},
   "outputs": [],
   "source": [
    "texto_minusculas = texto.lower()"
   ]
  },
  {
   "cell_type": "code",
   "execution_count": 26,
   "id": "a3dccb74-3493-4f50-8e52-299e4ccdc05a",
   "metadata": {},
   "outputs": [],
   "source": [
    "texto_mauisculas = texto.upper()"
   ]
  },
  {
   "cell_type": "code",
   "execution_count": 23,
   "id": "56bee10a-93de-43ef-80e1-f5ef12166494",
   "metadata": {},
   "outputs": [
    {
     "data": {
      "text/plain": [
       "'essa foi a primeira vez que o caso ocorreu! quero que fique registrando. entendido?'"
      ]
     },
     "execution_count": 23,
     "metadata": {},
     "output_type": "execute_result"
    }
   ],
   "source": [
    "texto_minusculas"
   ]
  },
  {
   "cell_type": "code",
   "execution_count": 27,
   "id": "c0b3bc7f-bc07-481a-a63c-8a303e16fc1b",
   "metadata": {},
   "outputs": [
    {
     "data": {
      "text/plain": [
       "'ESSA FOI A PRIMEIRA VEZ QUE O CASO OCORREU! QUERO QUE FIQUE REGISTRANDO. ENTENDIDO?'"
      ]
     },
     "execution_count": 27,
     "metadata": {},
     "output_type": "execute_result"
    }
   ],
   "source": [
    "texto_mauisculas"
   ]
  },
  {
   "cell_type": "code",
   "execution_count": 28,
   "id": "6e89bd33-836b-4231-a19b-6e499648e316",
   "metadata": {},
   "outputs": [],
   "source": [
    "texto_minusculas = texto_minusculas.split(' ')"
   ]
  },
  {
   "cell_type": "code",
   "execution_count": 31,
   "id": "feaabd39-ea69-49fa-982a-473f331e3bdd",
   "metadata": {},
   "outputs": [
    {
     "data": {
      "text/plain": [
       "['essa',\n",
       " 'foi',\n",
       " 'a',\n",
       " 'primeira',\n",
       " 'vez',\n",
       " 'que',\n",
       " 'o',\n",
       " 'caso',\n",
       " 'ocorreu!',\n",
       " 'quero',\n",
       " 'que',\n",
       " 'fique',\n",
       " 'registrando.',\n",
       " 'entendido?']"
      ]
     },
     "execution_count": 31,
     "metadata": {},
     "output_type": "execute_result"
    }
   ],
   "source": [
    "texto_minusculas"
   ]
  },
  {
   "cell_type": "code",
   "execution_count": 36,
   "id": "6f24ad39-8621-4e0a-b103-4d38059d56cc",
   "metadata": {},
   "outputs": [],
   "source": [
    "# Verifica se o texto está todo em minusculo ou maiusculo"
   ]
  },
  {
   "cell_type": "code",
   "execution_count": 34,
   "id": "c10770f1-fff9-4dc1-a7a4-7fbab488ca8b",
   "metadata": {},
   "outputs": [
    {
     "data": {
      "text/plain": [
       "False"
      ]
     },
     "execution_count": 34,
     "metadata": {},
     "output_type": "execute_result"
    }
   ],
   "source": [
    "texto_mauisculas.islower()"
   ]
  },
  {
   "cell_type": "code",
   "execution_count": 35,
   "id": "e08fc2ad-35f4-4676-bbcb-c2beafcfbf54",
   "metadata": {},
   "outputs": [
    {
     "data": {
      "text/plain": [
       "True"
      ]
     },
     "execution_count": 35,
     "metadata": {},
     "output_type": "execute_result"
    }
   ],
   "source": [
    "texto_mauisculas.isupper()"
   ]
  },
  {
   "cell_type": "code",
   "execution_count": 38,
   "id": "80df9e9a-86f1-489e-9d53-54b89a41f065",
   "metadata": {},
   "outputs": [],
   "source": [
    "# Expressões Regulares"
   ]
  },
  {
   "cell_type": "code",
   "execution_count": 39,
   "id": "0bede218-b816-402b-8e43-0fb808cbefb1",
   "metadata": {},
   "outputs": [],
   "source": [
    "import re"
   ]
  },
  {
   "cell_type": "code",
   "execution_count": 44,
   "id": "2a0a3de8-a9c2-43f0-ad5b-1d7373478c6b",
   "metadata": {},
   "outputs": [],
   "source": [
    "# Utilizando a função search"
   ]
  },
  {
   "cell_type": "code",
   "execution_count": 43,
   "id": "33f13c83-696c-432a-8f69-0872b850d0cf",
   "metadata": {},
   "outputs": [
    {
     "name": "stdout",
     "output_type": "stream",
     "text": [
      "Correspondência encontrada!\n"
     ]
    }
   ],
   "source": [
    "if re.search(\"artificial\",\"inteligência artificial\"):\n",
    "    print(\"Correspondência encontrada!\")\n",
    "else:\n",
    "    print(\"Não há correspondência\")"
   ]
  },
  {
   "cell_type": "code",
   "execution_count": 45,
   "id": "bc0137aa-9e77-44e5-b5ab-6010bf590c3f",
   "metadata": {},
   "outputs": [],
   "source": [
    "# Utilizando a função finditer"
   ]
  },
  {
   "cell_type": "code",
   "execution_count": 46,
   "id": "c38237f0-0ef8-44f9-b637-ea17d8ee83ac",
   "metadata": {},
   "outputs": [
    {
     "name": "stdout",
     "output_type": "stream",
     "text": [
      "Encontrei a palavra doce começando na posição 11 terminando na posição 15\n",
      "Encontrei a palavra doce começando na posição 21 terminando na posição 25\n",
      "Encontrei a palavra doce começando na posição 32 terminando na posição 36\n",
      "Encontrei a palavra doce começando na posição 47 terminando na posição 51\n"
     ]
    }
   ],
   "source": [
    "texto = \"Não existe doce mais doce que o doce da batata doce\"\n",
    "for localizador in re.finditer(\"doce\", texto):\n",
    "    inicio = localizador.start()\n",
    "    fim = localizador.end()\n",
    "    print(\"Encontrei a palavra\", texto[inicio:fim],\"começando na posição\", inicio, \"terminando na posição\", fim)"
   ]
  },
  {
   "cell_type": "code",
   "execution_count": 47,
   "id": "41205896-f24e-4638-8414-5273fb094132",
   "metadata": {},
   "outputs": [],
   "source": [
    "# Usando a função search() com operadores coringa"
   ]
  },
  {
   "cell_type": "code",
   "execution_count": 48,
   "id": "104684dd-c14b-4275-9dc9-0b428d6a89fc",
   "metadata": {},
   "outputs": [
    {
     "name": "stdout",
     "output_type": "stream",
     "text": [
      "Correspondencia encontrada\n"
     ]
    }
   ],
   "source": [
    "if re.search(\"tel\",\"inteligencia artificial\"):\n",
    "    print(\"Correspondencia encontrada\")\n",
    "else:\n",
    "    print(\"Nop\")"
   ]
  },
  {
   "cell_type": "code",
   "execution_count": null,
   "id": "8d414e25-cc46-4027-b073-67de205feca7",
   "metadata": {},
   "outputs": [],
   "source": []
  }
 ],
 "metadata": {
  "kernelspec": {
   "display_name": "Python 3 (ipykernel)",
   "language": "python",
   "name": "python3"
  },
  "language_info": {
   "codemirror_mode": {
    "name": "ipython",
    "version": 3
   },
   "file_extension": ".py",
   "mimetype": "text/x-python",
   "name": "python",
   "nbconvert_exporter": "python",
   "pygments_lexer": "ipython3",
   "version": "3.12.7"
  }
 },
 "nbformat": 4,
 "nbformat_minor": 5
}
