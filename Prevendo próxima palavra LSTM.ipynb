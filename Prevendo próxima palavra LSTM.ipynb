{
 "cells": [
  {
   "cell_type": "code",
   "execution_count": 1,
   "id": "67a5a155-94f1-4a4d-9372-84dca036c5c2",
   "metadata": {},
   "outputs": [],
   "source": [
    "import pandas as pd"
   ]
  },
  {
   "cell_type": "code",
   "execution_count": 2,
   "id": "06f83fee-de64-403e-8e42-0b9f750b2ea7",
   "metadata": {},
   "outputs": [],
   "source": [
    "arquivo = pd.read_csv('hotel-reviews.csv') "
   ]
  },
  {
   "cell_type": "code",
   "execution_count": 3,
   "id": "fe60007b-aa93-4894-8e5f-04cdcadf0082",
   "metadata": {},
   "outputs": [
    {
     "data": {
      "text/html": [
       "<div>\n",
       "<style scoped>\n",
       "    .dataframe tbody tr th:only-of-type {\n",
       "        vertical-align: middle;\n",
       "    }\n",
       "\n",
       "    .dataframe tbody tr th {\n",
       "        vertical-align: top;\n",
       "    }\n",
       "\n",
       "    .dataframe thead th {\n",
       "        text-align: right;\n",
       "    }\n",
       "</style>\n",
       "<table border=\"1\" class=\"dataframe\">\n",
       "  <thead>\n",
       "    <tr style=\"text-align: right;\">\n",
       "      <th></th>\n",
       "      <th>User_ID</th>\n",
       "      <th>Description</th>\n",
       "      <th>Browser_Used</th>\n",
       "      <th>Device_Used</th>\n",
       "      <th>Is_Response</th>\n",
       "    </tr>\n",
       "  </thead>\n",
       "  <tbody>\n",
       "    <tr>\n",
       "      <th>0</th>\n",
       "      <td>id10326</td>\n",
       "      <td>The room was kind of clean but had a VERY stro...</td>\n",
       "      <td>Edge</td>\n",
       "      <td>Mobile</td>\n",
       "      <td>not happy</td>\n",
       "    </tr>\n",
       "    <tr>\n",
       "      <th>1</th>\n",
       "      <td>id10327</td>\n",
       "      <td>I stayed at the Crown Plaza April -- - April -...</td>\n",
       "      <td>Internet Explorer</td>\n",
       "      <td>Mobile</td>\n",
       "      <td>not happy</td>\n",
       "    </tr>\n",
       "    <tr>\n",
       "      <th>2</th>\n",
       "      <td>id10328</td>\n",
       "      <td>I booked this hotel through Hotwire at the low...</td>\n",
       "      <td>Mozilla</td>\n",
       "      <td>Tablet</td>\n",
       "      <td>not happy</td>\n",
       "    </tr>\n",
       "    <tr>\n",
       "      <th>3</th>\n",
       "      <td>id10329</td>\n",
       "      <td>Stayed here with husband and sons on the way t...</td>\n",
       "      <td>InternetExplorer</td>\n",
       "      <td>Desktop</td>\n",
       "      <td>happy</td>\n",
       "    </tr>\n",
       "    <tr>\n",
       "      <th>4</th>\n",
       "      <td>id10330</td>\n",
       "      <td>My girlfriends and I stayed here to celebrate ...</td>\n",
       "      <td>Edge</td>\n",
       "      <td>Tablet</td>\n",
       "      <td>not happy</td>\n",
       "    </tr>\n",
       "    <tr>\n",
       "      <th>5</th>\n",
       "      <td>id10331</td>\n",
       "      <td>We had - rooms. One was very nice and clearly ...</td>\n",
       "      <td>InternetExplorer</td>\n",
       "      <td>Desktop</td>\n",
       "      <td>happy</td>\n",
       "    </tr>\n",
       "    <tr>\n",
       "      <th>6</th>\n",
       "      <td>id10332</td>\n",
       "      <td>My husband and I have stayed in this hotel a f...</td>\n",
       "      <td>Firefox</td>\n",
       "      <td>Tablet</td>\n",
       "      <td>not happy</td>\n",
       "    </tr>\n",
       "    <tr>\n",
       "      <th>7</th>\n",
       "      <td>id10333</td>\n",
       "      <td>My wife &amp; I stayed in this glorious city a whi...</td>\n",
       "      <td>Google Chrome</td>\n",
       "      <td>Mobile</td>\n",
       "      <td>happy</td>\n",
       "    </tr>\n",
       "    <tr>\n",
       "      <th>8</th>\n",
       "      <td>id10334</td>\n",
       "      <td>My boyfriend and I stayed at the Fairmont on a...</td>\n",
       "      <td>Internet Explorer</td>\n",
       "      <td>Desktop</td>\n",
       "      <td>happy</td>\n",
       "    </tr>\n",
       "    <tr>\n",
       "      <th>9</th>\n",
       "      <td>id10335</td>\n",
       "      <td>Wonderful staff, great location, but it was de...</td>\n",
       "      <td>Chrome</td>\n",
       "      <td>Tablet</td>\n",
       "      <td>not happy</td>\n",
       "    </tr>\n",
       "  </tbody>\n",
       "</table>\n",
       "</div>"
      ],
      "text/plain": [
       "   User_ID                                        Description  \\\n",
       "0  id10326  The room was kind of clean but had a VERY stro...   \n",
       "1  id10327  I stayed at the Crown Plaza April -- - April -...   \n",
       "2  id10328  I booked this hotel through Hotwire at the low...   \n",
       "3  id10329  Stayed here with husband and sons on the way t...   \n",
       "4  id10330  My girlfriends and I stayed here to celebrate ...   \n",
       "5  id10331  We had - rooms. One was very nice and clearly ...   \n",
       "6  id10332  My husband and I have stayed in this hotel a f...   \n",
       "7  id10333  My wife & I stayed in this glorious city a whi...   \n",
       "8  id10334  My boyfriend and I stayed at the Fairmont on a...   \n",
       "9  id10335  Wonderful staff, great location, but it was de...   \n",
       "\n",
       "        Browser_Used Device_Used Is_Response  \n",
       "0               Edge      Mobile   not happy  \n",
       "1  Internet Explorer      Mobile   not happy  \n",
       "2            Mozilla      Tablet   not happy  \n",
       "3   InternetExplorer     Desktop       happy  \n",
       "4               Edge      Tablet   not happy  \n",
       "5   InternetExplorer     Desktop       happy  \n",
       "6            Firefox      Tablet   not happy  \n",
       "7      Google Chrome      Mobile       happy  \n",
       "8  Internet Explorer     Desktop       happy  \n",
       "9             Chrome      Tablet   not happy  "
      ]
     },
     "execution_count": 3,
     "metadata": {},
     "output_type": "execute_result"
    }
   ],
   "source": [
    "arquivo.head(10)"
   ]
  },
  {
   "cell_type": "code",
   "execution_count": 4,
   "id": "e27d08f5-67cf-427b-8fd1-3ba3b066ea6e",
   "metadata": {},
   "outputs": [
    {
     "data": {
      "text/plain": [
       "(38932, 5)"
      ]
     },
     "execution_count": 4,
     "metadata": {},
     "output_type": "execute_result"
    }
   ],
   "source": [
    "arquivo.shape"
   ]
  },
  {
   "cell_type": "code",
   "execution_count": 5,
   "id": "cff0cd98-91ba-4ce0-8e48-fc42e51ff838",
   "metadata": {},
   "outputs": [],
   "source": [
    "arquivo = arquivo[:500]"
   ]
  },
  {
   "cell_type": "code",
   "execution_count": 6,
   "id": "f1b6d8ca-5b9b-4b38-b13f-f31ba5360ead",
   "metadata": {},
   "outputs": [],
   "source": [
    "import re"
   ]
  },
  {
   "cell_type": "code",
   "execution_count": 7,
   "id": "b38a8eca-f1b8-47f7-85b2-e014421d20f1",
   "metadata": {},
   "outputs": [],
   "source": [
    "#Passando todas as palavras para lower case "
   ]
  },
  {
   "cell_type": "code",
   "execution_count": 8,
   "id": "2e957dd2-e886-4719-a060-fce9a5085935",
   "metadata": {},
   "outputs": [],
   "source": [
    "arquivo['Description'] = [x.lower() for x in arquivo['Description']]"
   ]
  },
  {
   "cell_type": "code",
   "execution_count": 9,
   "id": "69668081-6428-45e1-97d4-7600453e9a6f",
   "metadata": {},
   "outputs": [
    {
     "data": {
      "text/html": [
       "<div>\n",
       "<style scoped>\n",
       "    .dataframe tbody tr th:only-of-type {\n",
       "        vertical-align: middle;\n",
       "    }\n",
       "\n",
       "    .dataframe tbody tr th {\n",
       "        vertical-align: top;\n",
       "    }\n",
       "\n",
       "    .dataframe thead th {\n",
       "        text-align: right;\n",
       "    }\n",
       "</style>\n",
       "<table border=\"1\" class=\"dataframe\">\n",
       "  <thead>\n",
       "    <tr style=\"text-align: right;\">\n",
       "      <th></th>\n",
       "      <th>User_ID</th>\n",
       "      <th>Description</th>\n",
       "      <th>Browser_Used</th>\n",
       "      <th>Device_Used</th>\n",
       "      <th>Is_Response</th>\n",
       "    </tr>\n",
       "  </thead>\n",
       "  <tbody>\n",
       "    <tr>\n",
       "      <th>0</th>\n",
       "      <td>id10326</td>\n",
       "      <td>the room was kind of clean but had a very stro...</td>\n",
       "      <td>Edge</td>\n",
       "      <td>Mobile</td>\n",
       "      <td>not happy</td>\n",
       "    </tr>\n",
       "    <tr>\n",
       "      <th>1</th>\n",
       "      <td>id10327</td>\n",
       "      <td>i stayed at the crown plaza april -- - april -...</td>\n",
       "      <td>Internet Explorer</td>\n",
       "      <td>Mobile</td>\n",
       "      <td>not happy</td>\n",
       "    </tr>\n",
       "    <tr>\n",
       "      <th>2</th>\n",
       "      <td>id10328</td>\n",
       "      <td>i booked this hotel through hotwire at the low...</td>\n",
       "      <td>Mozilla</td>\n",
       "      <td>Tablet</td>\n",
       "      <td>not happy</td>\n",
       "    </tr>\n",
       "    <tr>\n",
       "      <th>3</th>\n",
       "      <td>id10329</td>\n",
       "      <td>stayed here with husband and sons on the way t...</td>\n",
       "      <td>InternetExplorer</td>\n",
       "      <td>Desktop</td>\n",
       "      <td>happy</td>\n",
       "    </tr>\n",
       "    <tr>\n",
       "      <th>4</th>\n",
       "      <td>id10330</td>\n",
       "      <td>my girlfriends and i stayed here to celebrate ...</td>\n",
       "      <td>Edge</td>\n",
       "      <td>Tablet</td>\n",
       "      <td>not happy</td>\n",
       "    </tr>\n",
       "  </tbody>\n",
       "</table>\n",
       "</div>"
      ],
      "text/plain": [
       "   User_ID                                        Description  \\\n",
       "0  id10326  the room was kind of clean but had a very stro...   \n",
       "1  id10327  i stayed at the crown plaza april -- - april -...   \n",
       "2  id10328  i booked this hotel through hotwire at the low...   \n",
       "3  id10329  stayed here with husband and sons on the way t...   \n",
       "4  id10330  my girlfriends and i stayed here to celebrate ...   \n",
       "\n",
       "        Browser_Used Device_Used Is_Response  \n",
       "0               Edge      Mobile   not happy  \n",
       "1  Internet Explorer      Mobile   not happy  \n",
       "2            Mozilla      Tablet   not happy  \n",
       "3   InternetExplorer     Desktop       happy  \n",
       "4               Edge      Tablet   not happy  "
      ]
     },
     "execution_count": 9,
     "metadata": {},
     "output_type": "execute_result"
    }
   ],
   "source": [
    "arquivo.head()"
   ]
  },
  {
   "cell_type": "code",
   "execution_count": 10,
   "id": "92420e63-1048-4050-a652-6d7276e3134d",
   "metadata": {},
   "outputs": [],
   "source": [
    "# Eliminando símbolos e caracteres especiais:"
   ]
  },
  {
   "cell_type": "code",
   "execution_count": 11,
   "id": "8d53ff54-8d8a-4bf2-84eb-1ffcaddfcbbf",
   "metadata": {},
   "outputs": [
    {
     "name": "stderr",
     "output_type": "stream",
     "text": [
      "<>:1: SyntaxWarning: invalid escape sequence '\\s'\n",
      "<>:1: SyntaxWarning: invalid escape sequence '\\s'\n",
      "C:\\Users\\pc\\AppData\\Local\\Temp\\ipykernel_2308\\1298623608.py:1: SyntaxWarning: invalid escape sequence '\\s'\n",
      "  arquivo['Description'] = arquivo['Description'].apply((lambda x: re.sub('[^a-z0-9\\s]',\"\",x)))\n"
     ]
    }
   ],
   "source": [
    "arquivo['Description'] = arquivo['Description'].apply((lambda x: re.sub('[^a-z0-9\\s]',\"\",x)))"
   ]
  },
  {
   "cell_type": "code",
   "execution_count": 12,
   "id": "d2855ba4-6f21-47b4-8ea3-2cbcb60d883d",
   "metadata": {},
   "outputs": [
    {
     "data": {
      "text/html": [
       "<div>\n",
       "<style scoped>\n",
       "    .dataframe tbody tr th:only-of-type {\n",
       "        vertical-align: middle;\n",
       "    }\n",
       "\n",
       "    .dataframe tbody tr th {\n",
       "        vertical-align: top;\n",
       "    }\n",
       "\n",
       "    .dataframe thead th {\n",
       "        text-align: right;\n",
       "    }\n",
       "</style>\n",
       "<table border=\"1\" class=\"dataframe\">\n",
       "  <thead>\n",
       "    <tr style=\"text-align: right;\">\n",
       "      <th></th>\n",
       "      <th>User_ID</th>\n",
       "      <th>Description</th>\n",
       "      <th>Browser_Used</th>\n",
       "      <th>Device_Used</th>\n",
       "      <th>Is_Response</th>\n",
       "    </tr>\n",
       "  </thead>\n",
       "  <tbody>\n",
       "    <tr>\n",
       "      <th>0</th>\n",
       "      <td>id10326</td>\n",
       "      <td>the room was kind of clean but had a very stro...</td>\n",
       "      <td>Edge</td>\n",
       "      <td>Mobile</td>\n",
       "      <td>not happy</td>\n",
       "    </tr>\n",
       "    <tr>\n",
       "      <th>1</th>\n",
       "      <td>id10327</td>\n",
       "      <td>i stayed at the crown plaza april   april   th...</td>\n",
       "      <td>Internet Explorer</td>\n",
       "      <td>Mobile</td>\n",
       "      <td>not happy</td>\n",
       "    </tr>\n",
       "    <tr>\n",
       "      <th>2</th>\n",
       "      <td>id10328</td>\n",
       "      <td>i booked this hotel through hotwire at the low...</td>\n",
       "      <td>Mozilla</td>\n",
       "      <td>Tablet</td>\n",
       "      <td>not happy</td>\n",
       "    </tr>\n",
       "    <tr>\n",
       "      <th>3</th>\n",
       "      <td>id10329</td>\n",
       "      <td>stayed here with husband and sons on the way t...</td>\n",
       "      <td>InternetExplorer</td>\n",
       "      <td>Desktop</td>\n",
       "      <td>happy</td>\n",
       "    </tr>\n",
       "    <tr>\n",
       "      <th>4</th>\n",
       "      <td>id10330</td>\n",
       "      <td>my girlfriends and i stayed here to celebrate ...</td>\n",
       "      <td>Edge</td>\n",
       "      <td>Tablet</td>\n",
       "      <td>not happy</td>\n",
       "    </tr>\n",
       "  </tbody>\n",
       "</table>\n",
       "</div>"
      ],
      "text/plain": [
       "   User_ID                                        Description  \\\n",
       "0  id10326  the room was kind of clean but had a very stro...   \n",
       "1  id10327  i stayed at the crown plaza april   april   th...   \n",
       "2  id10328  i booked this hotel through hotwire at the low...   \n",
       "3  id10329  stayed here with husband and sons on the way t...   \n",
       "4  id10330  my girlfriends and i stayed here to celebrate ...   \n",
       "\n",
       "        Browser_Used Device_Used Is_Response  \n",
       "0               Edge      Mobile   not happy  \n",
       "1  Internet Explorer      Mobile   not happy  \n",
       "2            Mozilla      Tablet   not happy  \n",
       "3   InternetExplorer     Desktop       happy  \n",
       "4               Edge      Tablet   not happy  "
      ]
     },
     "execution_count": 12,
     "metadata": {},
     "output_type": "execute_result"
    }
   ],
   "source": [
    "arquivo.head()"
   ]
  },
  {
   "cell_type": "code",
   "execution_count": 15,
   "id": "f62bc730-cdb3-4e8e-a910-82ee6875fad2",
   "metadata": {},
   "outputs": [],
   "source": [
    "#Agrupando todas as descrições em um único texto"
   ]
  },
  {
   "cell_type": "code",
   "execution_count": 13,
   "id": "b6feff74-feda-41da-a72c-1257e9f34415",
   "metadata": {},
   "outputs": [],
   "source": [
    "texto_total = arquivo['Description'].str.cat(sep=' ')"
   ]
  },
  {
   "cell_type": "code",
   "execution_count": 16,
   "id": "29a0aced-9ee9-40de-bf5e-12c3d303d22c",
   "metadata": {},
   "outputs": [],
   "source": [
    "# Visualizando uma parte do texto"
   ]
  },
  {
   "cell_type": "code",
   "execution_count": 14,
   "id": "72179275-80e1-47de-b216-19234fe82a0c",
   "metadata": {},
   "outputs": [
    {
     "data": {
      "text/plain": [
       "'the room was kind of clean but had a very strong smell of dogs generally below average but ok for a overnight stay if youre not too fussy would consider staying again if the price was right breakfast was free and just about better than nothing i stayed at the crown plaza april   april   the staff was friendly and attentive the elevators are tiny about  by  the food in the restaurant was delicious but priced a little on the high side of course this is washington dc there is no pool and little for children to do my room on the fifth floor had two comfortable beds and plenty of space for one person the tv is a little small by todays standards with a limited number of channels there was a small bit of mold in the bathtub area that could have been removed with a little bleach it appeared the carpets were not vacummed every day i reported a light bulb was burned out it was never replaced ice machines are on the odd numbered floors but the one on my floor did not work i encountered some staff in the elevator one evening and i mentioned the ice machine to them severel hours later a maid appeared at my door with ice and two mints im not sure how they knew what room i was in that was a little unnerving i would stay here again for business but would not come here on vacation i booked this hotel through hotwire at the lowest price i could find when we got there the front desk manager gave us a smoking room i argued that i have a little baby and i would not have booked the room had i known it was smoking the manager would not hear anything further and told me that hotwire books the cheapest rooms that are available so from the get go i was very unhappy\\r\\nafter a great deal of persuasion and discussion i got a nonsmoking room thereafter the room had the most minimal amenities besides the great location near dupont circle there was not much to say about this overpriced hotel the room was small and in ok condition the bathroom was small with a tub the bathroom amenities were also minimal we did not have a fridge or a microwave and had to again rent a fridge from the staff to keep baby things\\r\\nthe parking costs  per day so it is best not to drive here also the breakfast is not included the lobby is very small and feels old the only thing available is coffee in the lobby which is decent\\r\\nall in all poor service minimal amenities small rooms small bathrooms no view but great location some distance from the metro either mcpherson station or dupont station try to look for better if available stayed here with husband and sons on the way to an alaska cruise we all loved the hotel great experience ask for a room on the north tower facing north west for the best views we had a high floor with a stunning view of the needle the city and even the cruise ships we ordered room service for dinner so we could enjoy the perfect views room service dinners were delicious too you are in a perfect spot to walk everywhere so enjoy the city almost forgot heavenly beds were heavenly too my girlfriends and i stayed here to celebrate our th birthdays we had planned this weekend getaway back in february so we were all looking forward to it there was  of us so we rented  ajoining rooms at the rate of nightroom we stayed  nights so with taxes and parking charges we spent in total over  all of us expected a certain level of service since we were staying at the ritz however this hotel certainly didnt meet what we would consider ritz standards\\r\\nthe rooms were fine they were clean with well appointed bathrooms but nothing to get excited about the service however was awful the first night we were there i made  calls to the bell man before someone in hotel communications picked up the phone then on saturday night before we left for dinner at  we requested to have extra hotels delivered to our room and our trash removed when we returned at  neither request was fullfilled i made another call to housekeeping and then finally things were taken care of in my opinion for the rates we were paying we should have had nightly turn down service\\r\\ni did speak with a manager when we checked out and he said he would make it worth our while to return however all we received was a letter of apology\\r\\nneedless to say we have no plans to return to this hotel my husband and i stayed at the four seasons boston in february of  and had a wonderful stay the service there was impeccable as is service at all the four seaons that i have stayed at if you are willing to pay ritz carlton prices then i would recommend staying at the four seasons instead we had  rooms one was very nice and clearly had been updated more recently than the other the other was clean and the bed was comfy but it needed some updating carpet was old and wrinkled for example great location for visiting inner harbor getting to fells point orioles games etc supershuttle from bwi worked great both ways tv remotes in both rooms were terrible but we didnt watch much tv so not a big deal wireless was sketchy on th and th'"
      ]
     },
     "execution_count": 14,
     "metadata": {},
     "output_type": "execute_result"
    }
   ],
   "source": [
    "texto_total[0:5000]"
   ]
  },
  {
   "cell_type": "code",
   "execution_count": null,
   "id": "7229ac3e-8b65-4264-8b29-fd9d6e273ae6",
   "metadata": {},
   "outputs": [],
   "source": [
    "# Eliminando possíveis espaços multiplos"
   ]
  },
  {
   "cell_type": "code",
   "execution_count": 17,
   "id": "02b85b8f-904b-4f37-9f4c-714b6b9fe8e0",
   "metadata": {},
   "outputs": [],
   "source": [
    "texto_total = \" \".join(texto_total.split()) # Une todos os elementro dentro de texo_total e agrupoa com o separador espaço"
   ]
  },
  {
   "cell_type": "code",
   "execution_count": 18,
   "id": "db15c185-748d-4955-836b-2fbf1d8b9c26",
   "metadata": {},
   "outputs": [
    {
     "data": {
      "text/plain": [
       "'the room was kind of clean but had a very strong smell of dogs generally below average but ok for a overnight stay if youre not too fussy would consider staying again if the price was right breakfast was free and just about better than nothing i stayed at the crown plaza april april the staff was friendly and attentive the elevators are tiny about by the food in the restaurant was delicious but priced a little on the high side of course this is washington dc there is no pool and little for children to do my room on the fifth floor had two comfortable beds and plenty of space for one person the tv is a little small by todays standards with a limited number of channels there was a small bit of mold in the bathtub area that could have been removed with a little bleach it appeared the carpets were not vacummed every day i reported a light bulb was burned out it was never replaced ice machines are on the odd numbered floors but the one on my floor did not work i encountered some staff in the elevator one evening and i mentioned the ice machine to them severel hours later a maid appeared at my door with ice and two mints im not sure how they knew what room i was in that was a little unnerving i would stay here again for business but would not come here on vacation i booked this hotel through hotwire at the lowest price i could find when we got there the front desk manager gave us a smoking room i argued that i have a little baby and i would not have booked the room had i known it was smoking the manager would not hear anything further and told me that hotwire books the cheapest rooms that are available so from the get go i was very unhappy after a great deal of persuasion and discussion i got a nonsmoking room thereafter the room had the most minimal amenities besides the great location near dupont circle there was not much to say about this overpriced hotel the room was small and in ok condition the bathroom was small with a tub the bathroom amenities were also minimal we did not have a fridge or a microwave and had to again rent a fridge from the staff to keep baby things the parking costs per day so it is best not to drive here also the breakfast is not included the lobby is very small and feels old the only thing available is coffee in the lobby which is decent all in all poor service minimal amenities small rooms small bathrooms no view but great location some distance from the metro either mcpherson station or dupont station try to look for better if available stayed here with husband and sons on the way to an alaska cruise we all loved the hotel great experience ask for a room on the north tower facing north west for the best views we had a high floor with a stunning view of the needle the city and even the cruise ships we ordered room service for dinner so we could enjoy the perfect views room service dinners were delicious too you are in a perfect spot to walk everywhere so enjoy the city almost forgot heavenly beds were heavenly too my girlfriends and i stayed here to celebrate our th birthdays we had planned this weekend getaway back in february so we were all looking forward to it there was of us so we rented ajoining rooms at the rate of nightroom we stayed nights so with taxes and parking charges we spent in total over all of us expected a certain level of service since we were staying at the ritz however this hotel certainly didnt meet what we would consider ritz standards the rooms were fine they were clean with well appointed bathrooms but nothing to get excited about the service however was awful the first night we were there i made calls to the bell man before someone in hotel communications picked up the phone then on saturday night before we left for dinner at we requested to have extra hotels delivered to our room and our trash removed when we returned at neither request was fullfilled i made another call to housekeeping and then finally things were taken care of in my opinion for the rates we were paying we should have had nightly turn down service i did speak with a manager when we checked out and he said he would make it worth our while to return however all we received was a letter of apology needless to say we have no plans to return to this hotel my husband and i stayed at the four seasons boston in february of and had a wonderful stay the service there was impeccable as is service at all the four seaons that i have stayed at if you are willing to pay ritz carlton prices then i would recommend staying at the four seasons instead we had rooms one was very nice and clearly had been updated more recently than the other the other was clean and the bed was comfy but it needed some updating carpet was old and wrinkled for example great location for visiting inner harbor getting to fells point orioles games etc supershuttle from bwi worked great both ways tv remotes in both rooms were terrible but we didnt watch much tv so not a big deal wireless was sketchy on th and th floors but again didn'"
      ]
     },
     "execution_count": 18,
     "metadata": {},
     "output_type": "execute_result"
    }
   ],
   "source": [
    "texto_total[0:5000]"
   ]
  },
  {
   "cell_type": "code",
   "execution_count": 24,
   "id": "1a6e87db-fc11-414e-8aea-57a2d6c65df5",
   "metadata": {},
   "outputs": [],
   "source": [
    "# Transformando em lista"
   ]
  },
  {
   "cell_type": "code",
   "execution_count": 19,
   "id": "9d70686e-41ec-47e8-8b6b-3fe81ab23f18",
   "metadata": {},
   "outputs": [],
   "source": [
    "texto_total = list(texto_total.split(\" \"))"
   ]
  },
  {
   "cell_type": "code",
   "execution_count": 23,
   "id": "1fad7419-f535-4ef5-af5b-5d3d6cb33640",
   "metadata": {},
   "outputs": [
    {
     "data": {
      "text/plain": [
       "['the', 'room', 'was', 'kind', 'of', 'clean', 'but', 'had', 'a', 'very']"
      ]
     },
     "execution_count": 23,
     "metadata": {},
     "output_type": "execute_result"
    }
   ],
   "source": [
    "texto_total[0:10]"
   ]
  },
  {
   "cell_type": "code",
   "execution_count": 25,
   "id": "af455b97-20e0-4315-b9be-9e201b168c60",
   "metadata": {},
   "outputs": [],
   "source": [
    "# Agrupando sequências de 6 palavras:"
   ]
  },
  {
   "cell_type": "code",
   "execution_count": 27,
   "id": "d5353a95-c8d2-462b-af3f-a346c9d4189c",
   "metadata": {},
   "outputs": [],
   "source": [
    "tamanho_frases = 6\n",
    "sequencia_texto = []\n",
    "for i in range(tamanho_frases, len(texto_total)): \n",
    "    sequencia = texto_total[i-tamanho_frases:i]\n",
    "    sequencia_texto.append(sequencia)"
   ]
  },
  {
   "cell_type": "code",
   "execution_count": 28,
   "id": "a3456ad8-21c9-4b33-a00a-fcbcfa821048",
   "metadata": {},
   "outputs": [
    {
     "ename": "AttributeError",
     "evalue": "'list' object has no attribute 'head'",
     "output_type": "error",
     "traceback": [
      "\u001b[1;31m---------------------------------------------------------------------------\u001b[0m",
      "\u001b[1;31mAttributeError\u001b[0m                            Traceback (most recent call last)",
      "Cell \u001b[1;32mIn[28], line 1\u001b[0m\n\u001b[1;32m----> 1\u001b[0m sequencia_texto\u001b[38;5;241m.\u001b[39mhead()\n",
      "\u001b[1;31mAttributeError\u001b[0m: 'list' object has no attribute 'head'"
     ]
    }
   ],
   "source": [
    "sequencia_texto"
   ]
  },
  {
   "cell_type": "code",
   "execution_count": null,
   "id": "3322a248-72fe-41f9-b377-43857923a3f9",
   "metadata": {},
   "outputs": [],
   "source": []
  }
 ],
 "metadata": {
  "kernelspec": {
   "display_name": "Python 3 (ipykernel)",
   "language": "python",
   "name": "python3"
  },
  "language_info": {
   "codemirror_mode": {
    "name": "ipython",
    "version": 3
   },
   "file_extension": ".py",
   "mimetype": "text/x-python",
   "name": "python",
   "nbconvert_exporter": "python",
   "pygments_lexer": "ipython3",
   "version": "3.12.7"
  }
 },
 "nbformat": 4,
 "nbformat_minor": 5
}
