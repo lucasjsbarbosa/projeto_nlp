{
  "nbformat": 4,
  "nbformat_minor": 0,
  "metadata": {
    "colab": {
      "provenance": []
    },
    "kernelspec": {
      "name": "python3",
      "display_name": "Python 3"
    },
    "language_info": {
      "name": "python"
    }
  },
  "cells": [
    {
      "cell_type": "code",
      "execution_count": null,
      "metadata": {
        "id": "SkOKv2Cjg0fe"
      },
      "outputs": [],
      "source": [
        "# Instalação de pacotes para raspagem e análise de dados.\n",
        "!pip install beautifulsoup4 pyspellchecker"
      ]
    },
    {
      "cell_type": "code",
      "source": [
        "# Declara define funções utilitárias utilizadas no notebook.\n",
        "import datetime\n",
        "import sys\n",
        "def formata_msg(nivel, msg):\n",
        "    \"\"\"\n",
        "    Formata uma mensagem de log incluindo o nível de severidade, timestamp\n",
        "    e a mensagem.\n",
        "\n",
        "    Parâmetros:\n",
        "    - nivel (str): Nível de severidade da mensagem (ex: 'INFO', 'ERROR', 'WARNING').\n",
        "    - msg (str): A mensagem de log propriamente dita.\n",
        "\n",
        "    Retorna:\n",
        "    - str: A mensagem de log formatada.\n",
        "    \"\"\"\n",
        "    timestamp = datetime.datetime.now().strftime('%Y-%m-%d %H:%M:%S')\n",
        "\n",
        "    return f\"[{nivel}] {timestamp} - {msg}\"\n",
        "\n",
        "print(formata_msg(\"INFO\", \"Funções utilitárias prontas para utilização.\"))\n",
        "print(formata_msg(\"INFO\", f\"Versão do Python: {sys.version} \"))"
      ],
      "metadata": {
        "id": "TEnpUAiSdLkp",
        "colab": {
          "base_uri": "https://localhost:8080/"
        },
        "outputId": "6c2e5040-57af-4122-ff96-4c09635d1779"
      },
      "execution_count": null,
      "outputs": [
        {
          "output_type": "stream",
          "name": "stdout",
          "text": [
            "[INFO] 2024-02-17 18:12:56 - Funções utilitárias prontas para utilização.\n",
            "[INFO] 2024-02-17 18:12:56 - Versão do Python: 3.10.12 (main, Nov 20 2023, 15:14:05) [GCC 11.4.0] \n"
          ]
        }
      ]
    },
    {
      "cell_type": "code",
      "source": [
        "# Importa módulos essenciais para funcionalidades do notebook.\n",
        "from bs4 import BeautifulSoup\n",
        "from spellchecker import SpellChecker\n",
        "\n",
        "print(formata_msg(\"INFO\", \"Bibliotecas importadas com sucesso; ambiente pronto.\"))"
      ],
      "metadata": {
        "id": "Y4MSqiuliJNk"
      },
      "execution_count": null,
      "outputs": []
    },
    {
      "cell_type": "markdown",
      "source": [
        "# Remoção de **caracteres** não imprimíveis\n",
        "Caracteres não imprimíveis, ou caracteres de controle, são fundamentais na codificação de textos, servindo para organizar e controlar a apresentação de dados sem gerar símbolos visíveis. Eles incluem **espaços**, **tabulações ('\\t')**, **quebras de linha ('\\n')** e **retornos de carro ('\\r')**, entre outros, e são usados em dispositivos e softwares para estruturar textos, controlar fluxos de dados e delimitar strings."
      ],
      "metadata": {
        "id": "-be8iXybTHX3"
      }
    },
    {
      "cell_type": "code",
      "source": [
        "texto_exemplo = \"\"\"\n",
        "A marca do home imaturo😜 é\\t\\t querer morrer de maneira nobre por alguma causa🕊️,\\n\n",
        "enquanto\\n\\n a marca do\\r home maduo🤓 é querer viver de maneira humide por uma\\n\n",
        "causa☮️.\n",
        "\"\"\""
      ],
      "metadata": {
        "id": "Fb64rOJmsLH2"
      },
      "execution_count": null,
      "outputs": []
    },
    {
      "cell_type": "code",
      "source": [
        "html_fragmento = f\"\"\"\n",
        "<div>\n",
        "    {texto_exemplo}\n",
        "</div>\n",
        "\"\"\"\n",
        "soup = BeautifulSoup(html_fragmento, \"html.parser\")\n",
        "\n",
        "print(\"Texto original:\")\n",
        "texto_original = soup.get_text()\n",
        "print(f\"[{texto_original}]\")\n",
        "\n",
        "print(\"\\nTexto limpo:\")\n",
        "texto_limpo = ' '.join(texto_original.split())\n",
        "print(f\"[{texto_limpo}]\")"
      ],
      "metadata": {
        "id": "mKFELcH6sWxn"
      },
      "execution_count": null,
      "outputs": []
    },
    {
      "cell_type": "markdown",
      "source": [
        "# Correção ortográfica\n",
        "A correção ortográfica **corrige erros de escrita**, melhorando a interpretação de textos. Essencial para análises precisas em tarefas como tradução, análise de sentimentos e assistentes virtuais, a correção ortográfica aumenta a eficácia da PLN ao garantir clareza e precisão na comunicação digital. Ela desempenha um papel fundamental na acessibilidade e na **qualidade das informações** processadas, facilitando interações mais naturais e compreensíveis entre humanos e máquinas."
      ],
      "metadata": {
        "id": "OfmdX_V4WQ_A"
      }
    },
    {
      "cell_type": "code",
      "source": [
        "corretor = SpellChecker(language='pt')\n",
        "\n",
        "# find those words that may be misspelled\n",
        "erros = spell.unknown(['ingreso', 'bola', 'futbol', 'estádio'])\n",
        "\n",
        "for erro in erros:\n",
        "    # Get the one `most likely` answer\n",
        "    correcao = corretor.correction(erro)\n",
        "\n",
        "    # Get a list of `likely` options\n",
        "    candidatas = corretor.candidates(erro)\n",
        "\n",
        "    print(f\"Palavra incorreta: {erro}, correção:{correcao}, outras opções: {candidatas}\")\n"
      ],
      "metadata": {
        "id": "XUvLNPPAhI9I"
      },
      "execution_count": null,
      "outputs": []
    },
    {
      "cell_type": "code",
      "source": [
        "def corrija_texto(texto):\n",
        "\n",
        "  corretor = SpellChecker(language=\"pt\")\n",
        "\n",
        "  texto_aux = texto[:]\n",
        "  erros = corretor.unknown(texto_aux.split(\" \"))\n",
        "\n",
        "  for i, erro in enumerate(erros):\n",
        "    texto_aux = texto_aux.replace(erro, corretor.correction(erro))\n",
        "\n",
        "  return texto_aux\n",
        "\n",
        "print(formata_msg(\"INFO\", \"Função de correção de texto pronta para utilização.\"))"
      ],
      "metadata": {
        "id": "aupJDldGYL3M"
      },
      "execution_count": null,
      "outputs": []
    },
    {
      "cell_type": "code",
      "source": [
        "print(corrija_texto(texto_limpo))"
      ],
      "metadata": {
        "id": "MJfVeNOXYuh1"
      },
      "execution_count": null,
      "outputs": []
    },
    {
      "cell_type": "markdown",
      "source": [
        "# Normalização unicode\n",
        "\n",
        "A **normalização unicode** ou **codificação de texto** converte caracteres unicode em alguma forma de representação binária para ser armazenado em um computador."
      ],
      "metadata": {
        "id": "d98hzX75Wi7S"
      }
    },
    {
      "cell_type": "code",
      "source": [
        "texto = 'Eu amo pizza 🍕!  Vamos reservar uma viagem para 🚗 Giza?'\n",
        "\n",
        "print(\"Texto original:\")\n",
        "print(texto)\n",
        "\n",
        "print(\"\\nTexto normalizado:\")\n",
        "print(texto.encode(\"utf-8\"))"
      ],
      "metadata": {
        "id": "CYqjJr8wiCo-"
      },
      "execution_count": null,
      "outputs": []
    }
  ]
}